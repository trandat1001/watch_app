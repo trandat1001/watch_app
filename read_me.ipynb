{
 "cells": [
  {
   "cell_type": "markdown",
   "metadata": {},
   "source": [
    "# 1. Introduction\n",
    "The purpose of this app is used for management watch. We have five components on this app, they are **Brand**, **Movement**, **Strap Material**, **Add Watch** and **View All Watch**. This app uses SQLite database at **data/db_Watch**.\n",
    "We have build a version for Ubuntu 18.04 and Window 7.\n",
    "* For Ubuntu enviroment, run file: **Watch_Ubuntu**\n",
    "* For Window7 enviroment, run file: **Watch_Window7.exe**\n",
    "\n",
    "We build this app using [Python 3.6.5](https://www.python.org/downloads/), [wxFormBuilder](https://github.com/wxFormBuilder/wxFormBuilder/tree/v3.8.1) and [SQLite](https://www.sqlite.org/index.html)\n"
   ]
  },
  {
   "cell_type": "markdown",
   "metadata": {},
   "source": [
    "# 2. Application Overview\n",
    "The first screen when you run app is home page. This screen show all buttons, each button is a feature of app. User can access these feature via menu File.\n",
    "![Homepage](image/homepage.png)\n",
    "\n",
    "Click on View Watch button, the app will show all available watches in current system.\n",
    "\n",
    "![View Watch](image/view_watch.png)\n",
    "\n",
    "Click on Add Watch button. A form will be shown and let user input new watch into system.\n",
    "\n",
    "![Add Watch](image/add_new_watch.png)\n",
    "\n",
    "Click on Movement button. A form will be shown and let user input the watch type(movement).\n",
    "\n",
    "![Add Watch](image/movement.png)\n",
    "\n",
    "Click on Brand button. A form will be shown and let user input the watch brand name: Casio, Citizen, Seiko,...\n",
    "\n",
    "![Add Watch](image/brand.png)\n",
    "\n",
    "Click on Strap Material button, A material form is shown and let user input raw material for making watch\n",
    "\n",
    "![Add Watch](image/material.png)"
   ]
  },
  {
   "cell_type": "code",
   "execution_count": null,
   "metadata": {},
   "outputs": [],
   "source": []
  },
  {
   "cell_type": "code",
   "execution_count": null,
   "metadata": {},
   "outputs": [],
   "source": []
  }
 ],
 "metadata": {
  "kernelspec": {
   "display_name": "Python 3",
   "language": "python",
   "name": "python3"
  },
  "language_info": {
   "codemirror_mode": {
    "name": "ipython",
    "version": 3
   },
   "file_extension": ".py",
   "mimetype": "text/x-python",
   "name": "python",
   "nbconvert_exporter": "python",
   "pygments_lexer": "ipython3",
   "version": "3.6.5"
  }
 },
 "nbformat": 4,
 "nbformat_minor": 2
}
